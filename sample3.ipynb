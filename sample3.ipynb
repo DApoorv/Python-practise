{
 "cells": [
  {
   "cell_type": "markdown",
   "id": "6f7cce74",
   "metadata": {},
   "source": [
    "# GCD - HCF(Highest common Factor)"
   ]
  },
  {
   "cell_type": "code",
   "execution_count": 21,
   "id": "38209520",
   "metadata": {},
   "outputs": [
    {
     "name": "stdout",
     "output_type": "stream",
     "text": [
      "GCD : 1\n"
     ]
    }
   ],
   "source": [
    "# Python code to demonstrate naive\n",
    "# method to compute gcd ( recursion )\n",
    "\n",
    "def hcfnaive(a,b):\n",
    "\tif(b==0):\n",
    "\t\treturn a\n",
    "\telse:\n",
    "\t\treturn hcfnaive(b,a%b)\n",
    "\n",
    "a = 60\n",
    "b= 48\n",
    "\n",
    "print (\"GCD : \",end=\"\")\n",
    "print (hcfnaive(9,10))\n"
   ]
  },
  {
   "cell_type": "code",
   "execution_count": 6,
   "id": "388d1e26",
   "metadata": {},
   "outputs": [
    {
     "name": "stdout",
     "output_type": "stream",
     "text": [
      "100\n"
     ]
    }
   ],
   "source": [
    "import math\n",
    "\n",
    "Arr_abs_differnce = [1,100]\n",
    "result = Arr_abs_differnce[0]\n",
    "for i in range(1,len(Arr_abs_differnce)):\n",
    "    result = math.gcd(result,Arr_abs_differnce[i])\n",
    "    \n",
    "print(max(Arr_abs_differnce)//result)"
   ]
  },
  {
   "cell_type": "markdown",
   "id": "c6070b6a",
   "metadata": {},
   "source": [
    "# Fibonacci Series using Dynamic Programming"
   ]
  },
  {
   "cell_type": "code",
   "execution_count": 1,
   "id": "e24ea507",
   "metadata": {},
   "outputs": [
    {
     "name": "stdout",
     "output_type": "stream",
     "text": [
      "34\n",
      "Runtime of the program is 0.0\n"
     ]
    }
   ],
   "source": [
    "import time\n",
    "start = time.time()\n",
    "def fibonacci(n):\n",
    "\n",
    "    # Taking 1st two fibonacci nubers as 0 and 1\n",
    "    f = [0, 1]\n",
    "    for i in range(2, n+1):\n",
    "        f.append(f[i-1] + f[i-2])\n",
    "    return f[n]\n",
    "\n",
    "print(fibonacci(9))\n",
    "end = time.time()\n",
    "print(f\"Runtime of the program is {end - start}\")"
   ]
  },
  {
   "cell_type": "markdown",
   "id": "3a034aed",
   "metadata": {},
   "source": [
    "# Fibonacci Series using Recursion ( BAD use)"
   ]
  },
  {
   "cell_type": "code",
   "execution_count": 54,
   "id": "d36f12e8",
   "metadata": {},
   "outputs": [
    {
     "name": "stdout",
     "output_type": "stream",
     "text": [
      "9227465\n",
      "Runtime of the program is 1.7622904777526855\n"
     ]
    }
   ],
   "source": [
    "import time\n",
    "start = time.time()\n",
    "def Fibonacci(n):\n",
    "   \n",
    "    if n < 0:\n",
    "        print(\"Incorrect input\")\n",
    "    elif n == 0:\n",
    "        return 0\n",
    "    elif n == 1 or n == 2:\n",
    "        return 1\n",
    "    else:\n",
    "        return Fibonacci(n-1) + Fibonacci(n-2)\n",
    "\n",
    "print(Fibonacci(35))\n",
    "end = time.time()\n",
    "print(f\"Runtime of the program is {end - start}\")"
   ]
  },
  {
   "cell_type": "code",
   "execution_count": null,
   "id": "ea9c69ad",
   "metadata": {},
   "outputs": [],
   "source": []
  }
 ],
 "metadata": {
  "kernelspec": {
   "display_name": "Python 3",
   "language": "python",
   "name": "python3"
  },
  "language_info": {
   "codemirror_mode": {
    "name": "ipython",
    "version": 3
   },
   "file_extension": ".py",
   "mimetype": "text/x-python",
   "name": "python",
   "nbconvert_exporter": "python",
   "pygments_lexer": "ipython3",
   "version": "3.9.2"
  }
 },
 "nbformat": 4,
 "nbformat_minor": 5
}
